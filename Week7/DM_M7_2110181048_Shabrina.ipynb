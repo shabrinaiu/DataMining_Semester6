{
 "cells": [
  {
   "cell_type": "code",
   "execution_count": 12,
   "metadata": {},
   "outputs": [],
   "source": [
    "import pandas as pd\n",
    "from sklearn import tree\n",
    "from sklearn.tree import DecisionTreeClassifier\n",
    "\n",
    "dataset = pd.read_csv('titanic.csv')\n",
    "test_dataset = pd.read_csv('titanic_test.csv')\n",
    "test_label = pd.read_csv('titanic_testlabel.csv')"
   ]
  },
  {
   "cell_type": "code",
   "execution_count": 17,
   "metadata": {},
   "outputs": [],
   "source": [
    "train_data = pd.DataFrame(dataset, columns = ['Sex', 'Pclass', 'SibSp', 'Parch']).replace(['male', 'female'], [0])\n",
    "\n",
    "missing_index = train_data.isnull().any(1).to_numpy().nonzero()[0]\n",
    "train_data = train_data.dropna()\n",
    "\n",
    "train_label = pd.DataFrame(dataset, columns = ['Survived']).drop(missing_index)"
   ]
  },
  {
   "cell_type": "code",
   "execution_count": 18,
   "metadata": {},
   "outputs": [],
   "source": [
    "test_data = pd.DataFrame(test_dataset, columns = ['Sex', 'Pclass', 'SibSp', 'Parch'])\n",
    "\n",
    "missing_index_test = test_data.isnull().any(1).to_numpy().nonzero()[0]\n",
    "test_data = test_data.dropna()\n",
    "\n",
    "test_label = pd.DataFrame(test_label, columns = ['Survived']).drop(missing_index_test)"
   ]
  },
  {
   "cell_type": "code",
   "execution_count": 19,
   "metadata": {
    "scrolled": true
   },
   "outputs": [
    {
     "name": "stdout",
     "output_type": "stream",
     "text": [
      "Accuration -->  62.05 %\n",
      "Error Ratio -->  37.95 %\n"
     ]
    }
   ],
   "source": [
    "dtc = DecisionTreeClassifier(max_depth=3)\n",
    "dtc.fit(train_data, train_label)\n",
    "\n",
    "class_result = dtc.predict(test_data)\n",
    "\n",
    "accuration = dtc.score(test_data, test_label)\n",
    "error = round((1-accuration)*100, 2)\n",
    "accuration = round((accuration)*100, 2)\n",
    "\n",
    "print('Accuration --> ', accuration, '%')\n",
    "print('Error Ratio --> ', error, '%')"
   ]
  }
 ],
 "metadata": {
  "kernelspec": {
   "display_name": "Python 3",
   "language": "python",
   "name": "python3"
  },
  "language_info": {
   "codemirror_mode": {
    "name": "ipython",
    "version": 3
   },
   "file_extension": ".py",
   "mimetype": "text/x-python",
   "name": "python",
   "nbconvert_exporter": "python",
   "pygments_lexer": "ipython3",
   "version": "3.8.5"
  }
 },
 "nbformat": 4,
 "nbformat_minor": 4
}
